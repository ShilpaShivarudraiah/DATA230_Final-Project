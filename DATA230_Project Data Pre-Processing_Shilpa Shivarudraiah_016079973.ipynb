{
 "cells": [
  {
   "cell_type": "code",
   "execution_count": 1,
   "id": "f32b4285",
   "metadata": {},
   "outputs": [],
   "source": [
    "import math\n",
    "import random\n",
    "import warnings\n",
    "%matplotlib inline\n",
    "import numpy as np\n",
    "import pandas as pd\n",
    "import seaborn as sns\n",
    "import statistics as stat\n",
    "import matplotlib.pyplot as plt\n",
    "warnings.filterwarnings('ignore')"
   ]
  },
  {
   "cell_type": "code",
   "execution_count": 2,
   "id": "8c792598",
   "metadata": {},
   "outputs": [],
   "source": [
    "rental_csv = pd.read_csv('housing_train.csv')  "
   ]
  },
  {
   "cell_type": "code",
   "execution_count": 3,
   "id": "90245480",
   "metadata": {},
   "outputs": [
    {
     "name": "stdout",
     "output_type": "stream",
     "text": [
      "<class 'pandas.core.frame.DataFrame'>\n",
      "RangeIndex: 265190 entries, 0 to 265189\n",
      "Data columns (total 22 columns):\n",
      " #   Column                   Non-Null Count   Dtype  \n",
      "---  ------                   --------------   -----  \n",
      " 0   id                       265190 non-null  int64  \n",
      " 1   url                      265190 non-null  object \n",
      " 2   region                   265190 non-null  object \n",
      " 3   region_url               265190 non-null  object \n",
      " 4   price                    265190 non-null  int64  \n",
      " 5   type                     265190 non-null  object \n",
      " 6   sqfeet                   265190 non-null  int64  \n",
      " 7   beds                     265190 non-null  int64  \n",
      " 8   baths                    265190 non-null  float64\n",
      " 9   cats_allowed             265190 non-null  int64  \n",
      " 10  dogs_allowed             265190 non-null  int64  \n",
      " 11  smoking_allowed          265190 non-null  int64  \n",
      " 12  wheelchair_access        265190 non-null  int64  \n",
      " 13  electric_vehicle_charge  265190 non-null  int64  \n",
      " 14  comes_furnished          265190 non-null  int64  \n",
      " 15  laundry_options          210879 non-null  object \n",
      " 16  parking_options          170055 non-null  object \n",
      " 17  image_url                265190 non-null  object \n",
      " 18  description              265188 non-null  object \n",
      " 19  lat                      263771 non-null  float64\n",
      " 20  long                     263771 non-null  float64\n",
      " 21  state                    265189 non-null  object \n",
      "dtypes: float64(3), int64(10), object(9)\n",
      "memory usage: 44.5+ MB\n"
     ]
    }
   ],
   "source": [
    "rental_csv.info()"
   ]
  },
  {
   "cell_type": "code",
   "execution_count": 4,
   "id": "f33f0510",
   "metadata": {},
   "outputs": [
    {
     "data": {
      "text/plain": [
       "Index(['id', 'url', 'region', 'region_url', 'price', 'type', 'sqfeet', 'beds',\n",
       "       'baths', 'cats_allowed', 'dogs_allowed', 'smoking_allowed',\n",
       "       'wheelchair_access', 'electric_vehicle_charge', 'comes_furnished',\n",
       "       'laundry_options', 'parking_options', 'image_url', 'description', 'lat',\n",
       "       'long', 'state'],\n",
       "      dtype='object')"
      ]
     },
     "execution_count": 4,
     "metadata": {},
     "output_type": "execute_result"
    }
   ],
   "source": [
    "rental_csv.columns"
   ]
  },
  {
   "cell_type": "code",
   "execution_count": 5,
   "id": "245d7a80",
   "metadata": {
    "scrolled": false
   },
   "outputs": [
    {
     "data": {
      "text/html": [
       "<div>\n",
       "<style scoped>\n",
       "    .dataframe tbody tr th:only-of-type {\n",
       "        vertical-align: middle;\n",
       "    }\n",
       "\n",
       "    .dataframe tbody tr th {\n",
       "        vertical-align: top;\n",
       "    }\n",
       "\n",
       "    .dataframe thead th {\n",
       "        text-align: right;\n",
       "    }\n",
       "</style>\n",
       "<table border=\"1\" class=\"dataframe\">\n",
       "  <thead>\n",
       "    <tr style=\"text-align: right;\">\n",
       "      <th></th>\n",
       "      <th>id</th>\n",
       "      <th>url</th>\n",
       "      <th>region</th>\n",
       "      <th>region_url</th>\n",
       "      <th>price</th>\n",
       "      <th>type</th>\n",
       "      <th>sqfeet</th>\n",
       "      <th>beds</th>\n",
       "      <th>baths</th>\n",
       "      <th>cats_allowed</th>\n",
       "      <th>...</th>\n",
       "      <th>wheelchair_access</th>\n",
       "      <th>electric_vehicle_charge</th>\n",
       "      <th>comes_furnished</th>\n",
       "      <th>laundry_options</th>\n",
       "      <th>parking_options</th>\n",
       "      <th>image_url</th>\n",
       "      <th>description</th>\n",
       "      <th>lat</th>\n",
       "      <th>long</th>\n",
       "      <th>state</th>\n",
       "    </tr>\n",
       "  </thead>\n",
       "  <tbody>\n",
       "    <tr>\n",
       "      <th>0</th>\n",
       "      <td>7039061606</td>\n",
       "      <td>https://bham.craigslist.org/apa/d/birmingham-h...</td>\n",
       "      <td>birmingham</td>\n",
       "      <td>https://bham.craigslist.org</td>\n",
       "      <td>1195</td>\n",
       "      <td>apartment</td>\n",
       "      <td>1908</td>\n",
       "      <td>3</td>\n",
       "      <td>2.0</td>\n",
       "      <td>1</td>\n",
       "      <td>...</td>\n",
       "      <td>0</td>\n",
       "      <td>0</td>\n",
       "      <td>0</td>\n",
       "      <td>laundry on site</td>\n",
       "      <td>street parking</td>\n",
       "      <td>https://images.craigslist.org/00L0L_80pNkyDeG0...</td>\n",
       "      <td>Apartments In Birmingham AL Welcome to 100 Inv...</td>\n",
       "      <td>33.4226</td>\n",
       "      <td>-86.7065</td>\n",
       "      <td>al</td>\n",
       "    </tr>\n",
       "    <tr>\n",
       "      <th>1</th>\n",
       "      <td>7041970863</td>\n",
       "      <td>https://bham.craigslist.org/apa/d/birmingham-w...</td>\n",
       "      <td>birmingham</td>\n",
       "      <td>https://bham.craigslist.org</td>\n",
       "      <td>1120</td>\n",
       "      <td>apartment</td>\n",
       "      <td>1319</td>\n",
       "      <td>3</td>\n",
       "      <td>2.0</td>\n",
       "      <td>1</td>\n",
       "      <td>...</td>\n",
       "      <td>0</td>\n",
       "      <td>0</td>\n",
       "      <td>0</td>\n",
       "      <td>laundry on site</td>\n",
       "      <td>off-street parking</td>\n",
       "      <td>https://images.craigslist.org/00707_uRrY9CsNMC...</td>\n",
       "      <td>Find Your Way to Haven Apartment Homes Come ho...</td>\n",
       "      <td>33.3755</td>\n",
       "      <td>-86.8045</td>\n",
       "      <td>al</td>\n",
       "    </tr>\n",
       "    <tr>\n",
       "      <th>2</th>\n",
       "      <td>7041966914</td>\n",
       "      <td>https://bham.craigslist.org/apa/d/birmingham-g...</td>\n",
       "      <td>birmingham</td>\n",
       "      <td>https://bham.craigslist.org</td>\n",
       "      <td>825</td>\n",
       "      <td>apartment</td>\n",
       "      <td>1133</td>\n",
       "      <td>1</td>\n",
       "      <td>1.5</td>\n",
       "      <td>1</td>\n",
       "      <td>...</td>\n",
       "      <td>0</td>\n",
       "      <td>0</td>\n",
       "      <td>0</td>\n",
       "      <td>laundry on site</td>\n",
       "      <td>street parking</td>\n",
       "      <td>https://images.craigslist.org/00h0h_b7Bdj1NLBi...</td>\n",
       "      <td>Apartments In Birmingham AL Welcome to 100 Inv...</td>\n",
       "      <td>33.4226</td>\n",
       "      <td>-86.7065</td>\n",
       "      <td>al</td>\n",
       "    </tr>\n",
       "    <tr>\n",
       "      <th>3</th>\n",
       "      <td>7041966936</td>\n",
       "      <td>https://bham.craigslist.org/apa/d/birmingham-f...</td>\n",
       "      <td>birmingham</td>\n",
       "      <td>https://bham.craigslist.org</td>\n",
       "      <td>800</td>\n",
       "      <td>apartment</td>\n",
       "      <td>927</td>\n",
       "      <td>1</td>\n",
       "      <td>1.0</td>\n",
       "      <td>1</td>\n",
       "      <td>...</td>\n",
       "      <td>0</td>\n",
       "      <td>0</td>\n",
       "      <td>0</td>\n",
       "      <td>laundry on site</td>\n",
       "      <td>street parking</td>\n",
       "      <td>https://images.craigslist.org/00808_6ghZ8tSRQs...</td>\n",
       "      <td>Apartments In Birmingham AL Welcome to 100 Inv...</td>\n",
       "      <td>33.4226</td>\n",
       "      <td>-86.7065</td>\n",
       "      <td>al</td>\n",
       "    </tr>\n",
       "    <tr>\n",
       "      <th>4</th>\n",
       "      <td>7041966888</td>\n",
       "      <td>https://bham.craigslist.org/apa/d/birmingham-2...</td>\n",
       "      <td>birmingham</td>\n",
       "      <td>https://bham.craigslist.org</td>\n",
       "      <td>785</td>\n",
       "      <td>apartment</td>\n",
       "      <td>1047</td>\n",
       "      <td>2</td>\n",
       "      <td>1.0</td>\n",
       "      <td>1</td>\n",
       "      <td>...</td>\n",
       "      <td>0</td>\n",
       "      <td>0</td>\n",
       "      <td>0</td>\n",
       "      <td>laundry on site</td>\n",
       "      <td>street parking</td>\n",
       "      <td>https://images.craigslist.org/00y0y_21c0FOvUXm...</td>\n",
       "      <td>Apartments In Birmingham AL Welcome to 100 Inv...</td>\n",
       "      <td>33.4226</td>\n",
       "      <td>-86.7065</td>\n",
       "      <td>al</td>\n",
       "    </tr>\n",
       "  </tbody>\n",
       "</table>\n",
       "<p>5 rows × 22 columns</p>\n",
       "</div>"
      ],
      "text/plain": [
       "           id                                                url      region  \\\n",
       "0  7039061606  https://bham.craigslist.org/apa/d/birmingham-h...  birmingham   \n",
       "1  7041970863  https://bham.craigslist.org/apa/d/birmingham-w...  birmingham   \n",
       "2  7041966914  https://bham.craigslist.org/apa/d/birmingham-g...  birmingham   \n",
       "3  7041966936  https://bham.craigslist.org/apa/d/birmingham-f...  birmingham   \n",
       "4  7041966888  https://bham.craigslist.org/apa/d/birmingham-2...  birmingham   \n",
       "\n",
       "                    region_url  price       type  sqfeet  beds  baths  \\\n",
       "0  https://bham.craigslist.org   1195  apartment    1908     3    2.0   \n",
       "1  https://bham.craigslist.org   1120  apartment    1319     3    2.0   \n",
       "2  https://bham.craigslist.org    825  apartment    1133     1    1.5   \n",
       "3  https://bham.craigslist.org    800  apartment     927     1    1.0   \n",
       "4  https://bham.craigslist.org    785  apartment    1047     2    1.0   \n",
       "\n",
       "   cats_allowed  ...  wheelchair_access  electric_vehicle_charge  \\\n",
       "0             1  ...                  0                        0   \n",
       "1             1  ...                  0                        0   \n",
       "2             1  ...                  0                        0   \n",
       "3             1  ...                  0                        0   \n",
       "4             1  ...                  0                        0   \n",
       "\n",
       "   comes_furnished  laundry_options     parking_options  \\\n",
       "0                0  laundry on site      street parking   \n",
       "1                0  laundry on site  off-street parking   \n",
       "2                0  laundry on site      street parking   \n",
       "3                0  laundry on site      street parking   \n",
       "4                0  laundry on site      street parking   \n",
       "\n",
       "                                           image_url  \\\n",
       "0  https://images.craigslist.org/00L0L_80pNkyDeG0...   \n",
       "1  https://images.craigslist.org/00707_uRrY9CsNMC...   \n",
       "2  https://images.craigslist.org/00h0h_b7Bdj1NLBi...   \n",
       "3  https://images.craigslist.org/00808_6ghZ8tSRQs...   \n",
       "4  https://images.craigslist.org/00y0y_21c0FOvUXm...   \n",
       "\n",
       "                                         description      lat     long  state  \n",
       "0  Apartments In Birmingham AL Welcome to 100 Inv...  33.4226 -86.7065     al  \n",
       "1  Find Your Way to Haven Apartment Homes Come ho...  33.3755 -86.8045     al  \n",
       "2  Apartments In Birmingham AL Welcome to 100 Inv...  33.4226 -86.7065     al  \n",
       "3  Apartments In Birmingham AL Welcome to 100 Inv...  33.4226 -86.7065     al  \n",
       "4  Apartments In Birmingham AL Welcome to 100 Inv...  33.4226 -86.7065     al  \n",
       "\n",
       "[5 rows x 22 columns]"
      ]
     },
     "execution_count": 5,
     "metadata": {},
     "output_type": "execute_result"
    }
   ],
   "source": [
    "rental_csv.head(5)"
   ]
  },
  {
   "cell_type": "code",
   "execution_count": 6,
   "id": "04875d97",
   "metadata": {},
   "outputs": [
    {
     "data": {
      "text/html": [
       "<div>\n",
       "<style scoped>\n",
       "    .dataframe tbody tr th:only-of-type {\n",
       "        vertical-align: middle;\n",
       "    }\n",
       "\n",
       "    .dataframe tbody tr th {\n",
       "        vertical-align: top;\n",
       "    }\n",
       "\n",
       "    .dataframe thead th {\n",
       "        text-align: right;\n",
       "    }\n",
       "</style>\n",
       "<table border=\"1\" class=\"dataframe\">\n",
       "  <thead>\n",
       "    <tr style=\"text-align: right;\">\n",
       "      <th></th>\n",
       "      <th>id</th>\n",
       "      <th>price</th>\n",
       "      <th>sqfeet</th>\n",
       "      <th>beds</th>\n",
       "      <th>baths</th>\n",
       "      <th>cats_allowed</th>\n",
       "      <th>dogs_allowed</th>\n",
       "      <th>smoking_allowed</th>\n",
       "      <th>wheelchair_access</th>\n",
       "      <th>electric_vehicle_charge</th>\n",
       "      <th>comes_furnished</th>\n",
       "      <th>lat</th>\n",
       "      <th>long</th>\n",
       "    </tr>\n",
       "  </thead>\n",
       "  <tbody>\n",
       "    <tr>\n",
       "      <th>count</th>\n",
       "      <td>2.651900e+05</td>\n",
       "      <td>2.651900e+05</td>\n",
       "      <td>2.651900e+05</td>\n",
       "      <td>265190.000000</td>\n",
       "      <td>265190.000000</td>\n",
       "      <td>265190.000000</td>\n",
       "      <td>265190.000000</td>\n",
       "      <td>265190.000000</td>\n",
       "      <td>265190.000000</td>\n",
       "      <td>265190.000000</td>\n",
       "      <td>265190.000000</td>\n",
       "      <td>263771.000000</td>\n",
       "      <td>263771.000000</td>\n",
       "    </tr>\n",
       "    <tr>\n",
       "      <th>mean</th>\n",
       "      <td>7.040888e+09</td>\n",
       "      <td>1.227285e+04</td>\n",
       "      <td>1.093678e+03</td>\n",
       "      <td>1.912414</td>\n",
       "      <td>1.483468</td>\n",
       "      <td>0.716822</td>\n",
       "      <td>0.696550</td>\n",
       "      <td>0.733896</td>\n",
       "      <td>0.078759</td>\n",
       "      <td>0.014360</td>\n",
       "      <td>0.048644</td>\n",
       "      <td>37.208855</td>\n",
       "      <td>-92.398149</td>\n",
       "    </tr>\n",
       "    <tr>\n",
       "      <th>std</th>\n",
       "      <td>8.778930e+06</td>\n",
       "      <td>5.376352e+06</td>\n",
       "      <td>2.306888e+04</td>\n",
       "      <td>3.691900</td>\n",
       "      <td>0.630208</td>\n",
       "      <td>0.450543</td>\n",
       "      <td>0.459749</td>\n",
       "      <td>0.441920</td>\n",
       "      <td>0.269362</td>\n",
       "      <td>0.118968</td>\n",
       "      <td>0.215124</td>\n",
       "      <td>5.659648</td>\n",
       "      <td>17.370780</td>\n",
       "    </tr>\n",
       "    <tr>\n",
       "      <th>min</th>\n",
       "      <td>7.003808e+09</td>\n",
       "      <td>0.000000e+00</td>\n",
       "      <td>0.000000e+00</td>\n",
       "      <td>0.000000</td>\n",
       "      <td>0.000000</td>\n",
       "      <td>0.000000</td>\n",
       "      <td>0.000000</td>\n",
       "      <td>0.000000</td>\n",
       "      <td>0.000000</td>\n",
       "      <td>0.000000</td>\n",
       "      <td>0.000000</td>\n",
       "      <td>-43.533300</td>\n",
       "      <td>-163.894000</td>\n",
       "    </tr>\n",
       "    <tr>\n",
       "      <th>25%</th>\n",
       "      <td>7.035963e+09</td>\n",
       "      <td>8.170000e+02</td>\n",
       "      <td>7.520000e+02</td>\n",
       "      <td>1.000000</td>\n",
       "      <td>1.000000</td>\n",
       "      <td>0.000000</td>\n",
       "      <td>0.000000</td>\n",
       "      <td>0.000000</td>\n",
       "      <td>0.000000</td>\n",
       "      <td>0.000000</td>\n",
       "      <td>0.000000</td>\n",
       "      <td>33.508500</td>\n",
       "      <td>-104.704000</td>\n",
       "    </tr>\n",
       "    <tr>\n",
       "      <th>50%</th>\n",
       "      <td>7.043109e+09</td>\n",
       "      <td>1.060000e+03</td>\n",
       "      <td>9.500000e+02</td>\n",
       "      <td>2.000000</td>\n",
       "      <td>1.000000</td>\n",
       "      <td>1.000000</td>\n",
       "      <td>1.000000</td>\n",
       "      <td>1.000000</td>\n",
       "      <td>0.000000</td>\n",
       "      <td>0.000000</td>\n",
       "      <td>0.000000</td>\n",
       "      <td>37.984900</td>\n",
       "      <td>-86.478300</td>\n",
       "    </tr>\n",
       "    <tr>\n",
       "      <th>75%</th>\n",
       "      <td>7.048362e+09</td>\n",
       "      <td>1.450000e+03</td>\n",
       "      <td>1.156000e+03</td>\n",
       "      <td>2.000000</td>\n",
       "      <td>2.000000</td>\n",
       "      <td>1.000000</td>\n",
       "      <td>1.000000</td>\n",
       "      <td>1.000000</td>\n",
       "      <td>0.000000</td>\n",
       "      <td>0.000000</td>\n",
       "      <td>0.000000</td>\n",
       "      <td>41.168400</td>\n",
       "      <td>-81.284600</td>\n",
       "    </tr>\n",
       "    <tr>\n",
       "      <th>max</th>\n",
       "      <td>7.051263e+09</td>\n",
       "      <td>2.768307e+09</td>\n",
       "      <td>8.388607e+06</td>\n",
       "      <td>1100.000000</td>\n",
       "      <td>75.000000</td>\n",
       "      <td>1.000000</td>\n",
       "      <td>1.000000</td>\n",
       "      <td>1.000000</td>\n",
       "      <td>1.000000</td>\n",
       "      <td>1.000000</td>\n",
       "      <td>1.000000</td>\n",
       "      <td>102.036000</td>\n",
       "      <td>172.633000</td>\n",
       "    </tr>\n",
       "  </tbody>\n",
       "</table>\n",
       "</div>"
      ],
      "text/plain": [
       "                 id         price        sqfeet           beds          baths  \\\n",
       "count  2.651900e+05  2.651900e+05  2.651900e+05  265190.000000  265190.000000   \n",
       "mean   7.040888e+09  1.227285e+04  1.093678e+03       1.912414       1.483468   \n",
       "std    8.778930e+06  5.376352e+06  2.306888e+04       3.691900       0.630208   \n",
       "min    7.003808e+09  0.000000e+00  0.000000e+00       0.000000       0.000000   \n",
       "25%    7.035963e+09  8.170000e+02  7.520000e+02       1.000000       1.000000   \n",
       "50%    7.043109e+09  1.060000e+03  9.500000e+02       2.000000       1.000000   \n",
       "75%    7.048362e+09  1.450000e+03  1.156000e+03       2.000000       2.000000   \n",
       "max    7.051263e+09  2.768307e+09  8.388607e+06    1100.000000      75.000000   \n",
       "\n",
       "        cats_allowed   dogs_allowed  smoking_allowed  wheelchair_access  \\\n",
       "count  265190.000000  265190.000000    265190.000000      265190.000000   \n",
       "mean        0.716822       0.696550         0.733896           0.078759   \n",
       "std         0.450543       0.459749         0.441920           0.269362   \n",
       "min         0.000000       0.000000         0.000000           0.000000   \n",
       "25%         0.000000       0.000000         0.000000           0.000000   \n",
       "50%         1.000000       1.000000         1.000000           0.000000   \n",
       "75%         1.000000       1.000000         1.000000           0.000000   \n",
       "max         1.000000       1.000000         1.000000           1.000000   \n",
       "\n",
       "       electric_vehicle_charge  comes_furnished            lat           long  \n",
       "count            265190.000000    265190.000000  263771.000000  263771.000000  \n",
       "mean                  0.014360         0.048644      37.208855     -92.398149  \n",
       "std                   0.118968         0.215124       5.659648      17.370780  \n",
       "min                   0.000000         0.000000     -43.533300    -163.894000  \n",
       "25%                   0.000000         0.000000      33.508500    -104.704000  \n",
       "50%                   0.000000         0.000000      37.984900     -86.478300  \n",
       "75%                   0.000000         0.000000      41.168400     -81.284600  \n",
       "max                   1.000000         1.000000     102.036000     172.633000  "
      ]
     },
     "execution_count": 6,
     "metadata": {},
     "output_type": "execute_result"
    }
   ],
   "source": [
    "rental_csv.describe()"
   ]
  },
  {
   "cell_type": "code",
   "execution_count": 7,
   "id": "f52f80ba",
   "metadata": {},
   "outputs": [
    {
     "name": "stdout",
     "output_type": "stream",
     "text": [
      "Total number of records in the dataset:\n"
     ]
    },
    {
     "data": {
      "text/plain": [
       "(265190, 22)"
      ]
     },
     "execution_count": 7,
     "metadata": {},
     "output_type": "execute_result"
    }
   ],
   "source": [
    "print('Total number of records in the dataset:')\n",
    "rental_csv.shape"
   ]
  },
  {
   "cell_type": "code",
   "execution_count": 8,
   "id": "17edacf9",
   "metadata": {},
   "outputs": [
    {
     "data": {
      "text/plain": [
       "id                         265190\n",
       "url                        265190\n",
       "region                     265190\n",
       "region_url                 265190\n",
       "price                      265190\n",
       "type                       265190\n",
       "sqfeet                     265190\n",
       "beds                       265190\n",
       "baths                      265190\n",
       "cats_allowed               265190\n",
       "dogs_allowed               265190\n",
       "smoking_allowed            265190\n",
       "wheelchair_access          265190\n",
       "electric_vehicle_charge    265190\n",
       "comes_furnished            265190\n",
       "laundry_options            210879\n",
       "parking_options            170055\n",
       "image_url                  265190\n",
       "description                265188\n",
       "lat                        263771\n",
       "long                       263771\n",
       "state                      265189\n",
       "dtype: int64"
      ]
     },
     "execution_count": 8,
     "metadata": {},
     "output_type": "execute_result"
    }
   ],
   "source": [
    "rental_csv.count()"
   ]
  },
  {
   "cell_type": "code",
   "execution_count": 9,
   "id": "2a9901d9",
   "metadata": {},
   "outputs": [
    {
     "name": "stdout",
     "output_type": "stream",
     "text": [
      "The Datatypes of the attributes: \n"
     ]
    },
    {
     "data": {
      "text/plain": [
       "id                           int64\n",
       "url                         object\n",
       "region                      object\n",
       "region_url                  object\n",
       "price                        int64\n",
       "type                        object\n",
       "sqfeet                       int64\n",
       "beds                         int64\n",
       "baths                      float64\n",
       "cats_allowed                 int64\n",
       "dogs_allowed                 int64\n",
       "smoking_allowed              int64\n",
       "wheelchair_access            int64\n",
       "electric_vehicle_charge      int64\n",
       "comes_furnished              int64\n",
       "laundry_options             object\n",
       "parking_options             object\n",
       "image_url                   object\n",
       "description                 object\n",
       "lat                        float64\n",
       "long                       float64\n",
       "state                       object\n",
       "dtype: object"
      ]
     },
     "execution_count": 9,
     "metadata": {},
     "output_type": "execute_result"
    }
   ],
   "source": [
    "print(\"The Datatypes of the attributes: \")\n",
    "rental_csv.dtypes"
   ]
  },
  {
   "cell_type": "markdown",
   "id": "8866ec30",
   "metadata": {},
   "source": [
    "## Count of number nulls"
   ]
  },
  {
   "cell_type": "code",
   "execution_count": 10,
   "id": "f99119c4",
   "metadata": {},
   "outputs": [],
   "source": [
    "result=pd.DataFrame(rental_csv.isna().sum())"
   ]
  },
  {
   "cell_type": "code",
   "execution_count": 11,
   "id": "cad55756",
   "metadata": {},
   "outputs": [],
   "source": [
    "result.columns=[\"count_nulls\"]"
   ]
  },
  {
   "cell_type": "code",
   "execution_count": 12,
   "id": "ee87cd73",
   "metadata": {},
   "outputs": [
    {
     "name": "stdout",
     "output_type": "stream",
     "text": [
      "The number of null records in the dataset:\n",
      "\n",
      "                         count_nulls\n",
      "id                                 0\n",
      "url                                0\n",
      "region                             0\n",
      "region_url                         0\n",
      "price                              0\n",
      "type                               0\n",
      "sqfeet                             0\n",
      "beds                               0\n",
      "baths                              0\n",
      "cats_allowed                       0\n",
      "dogs_allowed                       0\n",
      "smoking_allowed                    0\n",
      "wheelchair_access                  0\n",
      "electric_vehicle_charge            0\n",
      "comes_furnished                    0\n",
      "laundry_options                54311\n",
      "parking_options                95135\n",
      "image_url                          0\n",
      "description                        2\n",
      "lat                             1419\n",
      "long                            1419\n",
      "state                              1\n"
     ]
    }
   ],
   "source": [
    "print(\"The number of null records in the dataset:\\n\")\n",
    "print(result)"
   ]
  },
  {
   "cell_type": "code",
   "execution_count": 13,
   "id": "81b421ea",
   "metadata": {},
   "outputs": [
    {
     "name": "stdout",
     "output_type": "stream",
     "text": [
      "Attributes containing null values :\n"
     ]
    },
    {
     "data": {
      "text/html": [
       "<div>\n",
       "<style scoped>\n",
       "    .dataframe tbody tr th:only-of-type {\n",
       "        vertical-align: middle;\n",
       "    }\n",
       "\n",
       "    .dataframe tbody tr th {\n",
       "        vertical-align: top;\n",
       "    }\n",
       "\n",
       "    .dataframe thead th {\n",
       "        text-align: right;\n",
       "    }\n",
       "</style>\n",
       "<table border=\"1\" class=\"dataframe\">\n",
       "  <thead>\n",
       "    <tr style=\"text-align: right;\">\n",
       "      <th></th>\n",
       "      <th>count_nulls</th>\n",
       "    </tr>\n",
       "  </thead>\n",
       "  <tbody>\n",
       "    <tr>\n",
       "      <th>laundry_options</th>\n",
       "      <td>54311</td>\n",
       "    </tr>\n",
       "    <tr>\n",
       "      <th>parking_options</th>\n",
       "      <td>95135</td>\n",
       "    </tr>\n",
       "    <tr>\n",
       "      <th>description</th>\n",
       "      <td>2</td>\n",
       "    </tr>\n",
       "    <tr>\n",
       "      <th>lat</th>\n",
       "      <td>1419</td>\n",
       "    </tr>\n",
       "    <tr>\n",
       "      <th>long</th>\n",
       "      <td>1419</td>\n",
       "    </tr>\n",
       "    <tr>\n",
       "      <th>state</th>\n",
       "      <td>1</td>\n",
       "    </tr>\n",
       "  </tbody>\n",
       "</table>\n",
       "</div>"
      ],
      "text/plain": [
       "                 count_nulls\n",
       "laundry_options        54311\n",
       "parking_options        95135\n",
       "description                2\n",
       "lat                     1419\n",
       "long                    1419\n",
       "state                      1"
      ]
     },
     "execution_count": 13,
     "metadata": {},
     "output_type": "execute_result"
    }
   ],
   "source": [
    "print('Fields containing null values :')\n",
    "result.loc[(result[\"count_nulls\"]>0)]"
   ]
  },
  {
   "cell_type": "markdown",
   "id": "8759d111",
   "metadata": {},
   "source": [
    "## REMOVE NULL"
   ]
  },
  {
   "cell_type": "code",
   "execution_count": 14,
   "id": "8e606877",
   "metadata": {},
   "outputs": [],
   "source": [
    "new_rental= rental_csv.dropna()"
   ]
  },
  {
   "cell_type": "markdown",
   "id": "0d49ff8d",
   "metadata": {},
   "source": [
    "## CHECKING NULL "
   ]
  },
  {
   "cell_type": "code",
   "execution_count": 15,
   "id": "b11c00fd",
   "metadata": {},
   "outputs": [],
   "source": [
    "result=pd.DataFrame(new_rental.isna().sum())"
   ]
  },
  {
   "cell_type": "code",
   "execution_count": 16,
   "id": "c614c875",
   "metadata": {},
   "outputs": [],
   "source": [
    "result.columns=[\"count_nulls\"]"
   ]
  },
  {
   "cell_type": "code",
   "execution_count": 17,
   "id": "3a7b5477",
   "metadata": {},
   "outputs": [
    {
     "name": "stdout",
     "output_type": "stream",
     "text": [
      "                         count_nulls\n",
      "id                                 0\n",
      "url                                0\n",
      "region                             0\n",
      "region_url                         0\n",
      "price                              0\n",
      "type                               0\n",
      "sqfeet                             0\n",
      "beds                               0\n",
      "baths                              0\n",
      "cats_allowed                       0\n",
      "dogs_allowed                       0\n",
      "smoking_allowed                    0\n",
      "wheelchair_access                  0\n",
      "electric_vehicle_charge            0\n",
      "comes_furnished                    0\n",
      "laundry_options                    0\n",
      "parking_options                    0\n",
      "image_url                          0\n",
      "description                        0\n",
      "lat                                0\n",
      "long                               0\n",
      "state                              0\n",
      "\n",
      " All records with null are removed successfully!\n"
     ]
    }
   ],
   "source": [
    "print(result)\n",
    "print('\\n All records with null are removed successfully!')"
   ]
  },
  {
   "cell_type": "markdown",
   "id": "b2f7d47e",
   "metadata": {},
   "source": [
    "## DUPLICATE"
   ]
  },
  {
   "cell_type": "code",
   "execution_count": 18,
   "id": "c5b6e398",
   "metadata": {},
   "outputs": [
    {
     "name": "stdout",
     "output_type": "stream",
     "text": [
      "Total Duplicates present : 0\n"
     ]
    }
   ],
   "source": [
    "print('Total Duplicates present :',new_rental.duplicated().sum())"
   ]
  },
  {
   "cell_type": "code",
   "execution_count": 20,
   "id": "b2fd23eb",
   "metadata": {
    "scrolled": false
   },
   "outputs": [
    {
     "name": "stdout",
     "output_type": "stream",
     "text": [
      "The recod counts after duplicates removed:\n",
      " \n",
      "id                         164283\n",
      "url                        164283\n",
      "region                     164283\n",
      "region_url                 164283\n",
      "price                      164283\n",
      "type                       164283\n",
      "sqfeet                     164283\n",
      "beds                       164283\n",
      "baths                      164283\n",
      "cats_allowed               164283\n",
      "dogs_allowed               164283\n",
      "smoking_allowed            164283\n",
      "wheelchair_access          164283\n",
      "electric_vehicle_charge    164283\n",
      "comes_furnished            164283\n",
      "laundry_options            164283\n",
      "parking_options            164283\n",
      "image_url                  164283\n",
      "description                164283\n",
      "lat                        164283\n",
      "long                       164283\n",
      "state                      164283\n",
      "dtype: int64\n"
     ]
    }
   ],
   "source": [
    "rental= new_rental.drop_duplicates(keep=\"last\", inplace=False)\n",
    "print('The record counts after duplicates removed:\\n ')\n",
    "print(rental.count())"
   ]
  },
  {
   "cell_type": "code",
   "execution_count": 21,
   "id": "bc184f5e",
   "metadata": {},
   "outputs": [
    {
     "name": "stdout",
     "output_type": "stream",
     "text": [
      "Total Duplicates : 0\n"
     ]
    }
   ],
   "source": [
    "print('Total Duplicates :',rental.duplicated().sum())"
   ]
  },
  {
   "cell_type": "code",
   "execution_count": 22,
   "id": "8558f4ea",
   "metadata": {},
   "outputs": [],
   "source": [
    "rental['cats_allowed'] = rental['cats_allowed'].astype('bool')\n",
    "rental['dogs_allowed'] = rental['dogs_allowed'].astype('bool')\n",
    "rental['smoking_allowed'] = rental['smoking_allowed'].astype('bool')\n",
    "rental['wheelchair_access'] = rental['wheelchair_access'].astype('bool')\n",
    "rental['electric_vehicle_charge'] = rental['electric_vehicle_charge'].astype('bool')\n",
    "rental['comes_furnished'] = rental['comes_furnished'].astype('bool')"
   ]
  },
  {
   "cell_type": "code",
   "execution_count": 23,
   "id": "3fe11079",
   "metadata": {},
   "outputs": [],
   "source": [
    "rental['price'] = rental['price'].astype(float)"
   ]
  },
  {
   "cell_type": "code",
   "execution_count": 24,
   "id": "1fdded8f",
   "metadata": {},
   "outputs": [
    {
     "name": "stdout",
     "output_type": "stream",
     "text": [
      "New datatypes of the attributes : \n"
     ]
    },
    {
     "data": {
      "text/plain": [
       "id                           int64\n",
       "url                         object\n",
       "region                      object\n",
       "region_url                  object\n",
       "price                      float64\n",
       "type                        object\n",
       "sqfeet                       int64\n",
       "beds                         int64\n",
       "baths                      float64\n",
       "cats_allowed                  bool\n",
       "dogs_allowed                  bool\n",
       "smoking_allowed               bool\n",
       "wheelchair_access             bool\n",
       "electric_vehicle_charge       bool\n",
       "comes_furnished               bool\n",
       "laundry_options             object\n",
       "parking_options             object\n",
       "image_url                   object\n",
       "description                 object\n",
       "lat                        float64\n",
       "long                       float64\n",
       "state                       object\n",
       "dtype: object"
      ]
     },
     "execution_count": 24,
     "metadata": {},
     "output_type": "execute_result"
    }
   ],
   "source": [
    "print(\"New datatypes of the attributes : \")\n",
    "rental.dtypes"
   ]
  },
  {
   "cell_type": "code",
   "execution_count": 25,
   "id": "dcad4bab",
   "metadata": {},
   "outputs": [
    {
     "name": "stdout",
     "output_type": "stream",
     "text": [
      "Total records in the dataset after pre-processing:\n"
     ]
    },
    {
     "data": {
      "text/plain": [
       "(164283, 22)"
      ]
     },
     "execution_count": 25,
     "metadata": {},
     "output_type": "execute_result"
    }
   ],
   "source": [
    "print('Total records in the dataset after pre-processing:')\n",
    "rental.shape"
   ]
  },
  {
   "cell_type": "code",
   "execution_count": 26,
   "id": "e03ae40a",
   "metadata": {},
   "outputs": [
    {
     "data": {
      "text/html": [
       "<div>\n",
       "<style scoped>\n",
       "    .dataframe tbody tr th:only-of-type {\n",
       "        vertical-align: middle;\n",
       "    }\n",
       "\n",
       "    .dataframe tbody tr th {\n",
       "        vertical-align: top;\n",
       "    }\n",
       "\n",
       "    .dataframe thead th {\n",
       "        text-align: right;\n",
       "    }\n",
       "</style>\n",
       "<table border=\"1\" class=\"dataframe\">\n",
       "  <thead>\n",
       "    <tr style=\"text-align: right;\">\n",
       "      <th></th>\n",
       "      <th>id</th>\n",
       "      <th>price</th>\n",
       "      <th>sqfeet</th>\n",
       "      <th>beds</th>\n",
       "      <th>baths</th>\n",
       "      <th>lat</th>\n",
       "      <th>long</th>\n",
       "    </tr>\n",
       "  </thead>\n",
       "  <tbody>\n",
       "    <tr>\n",
       "      <th>count</th>\n",
       "      <td>1.642830e+05</td>\n",
       "      <td>1.642830e+05</td>\n",
       "      <td>1.642830e+05</td>\n",
       "      <td>164283.000000</td>\n",
       "      <td>164283.000000</td>\n",
       "      <td>164283.000000</td>\n",
       "      <td>164283.000000</td>\n",
       "    </tr>\n",
       "    <tr>\n",
       "      <th>mean</th>\n",
       "      <td>7.040979e+09</td>\n",
       "      <td>1.885828e+04</td>\n",
       "      <td>1.148372e+03</td>\n",
       "      <td>1.933341</td>\n",
       "      <td>1.477947</td>\n",
       "      <td>37.766159</td>\n",
       "      <td>-94.170696</td>\n",
       "    </tr>\n",
       "    <tr>\n",
       "      <th>std</th>\n",
       "      <td>8.841901e+06</td>\n",
       "      <td>6.830498e+06</td>\n",
       "      <td>2.920158e+04</td>\n",
       "      <td>4.640400</td>\n",
       "      <td>0.648084</td>\n",
       "      <td>5.744449</td>\n",
       "      <td>17.587915</td>\n",
       "    </tr>\n",
       "    <tr>\n",
       "      <th>min</th>\n",
       "      <td>7.004032e+09</td>\n",
       "      <td>0.000000e+00</td>\n",
       "      <td>0.000000e+00</td>\n",
       "      <td>0.000000</td>\n",
       "      <td>0.000000</td>\n",
       "      <td>-43.533300</td>\n",
       "      <td>-163.894000</td>\n",
       "    </tr>\n",
       "    <tr>\n",
       "      <th>25%</th>\n",
       "      <td>7.035968e+09</td>\n",
       "      <td>8.220000e+02</td>\n",
       "      <td>7.500000e+02</td>\n",
       "      <td>1.000000</td>\n",
       "      <td>1.000000</td>\n",
       "      <td>33.979500</td>\n",
       "      <td>-105.869000</td>\n",
       "    </tr>\n",
       "    <tr>\n",
       "      <th>50%</th>\n",
       "      <td>7.043401e+09</td>\n",
       "      <td>1.084000e+03</td>\n",
       "      <td>9.500000e+02</td>\n",
       "      <td>2.000000</td>\n",
       "      <td>1.000000</td>\n",
       "      <td>38.666800</td>\n",
       "      <td>-88.641200</td>\n",
       "    </tr>\n",
       "    <tr>\n",
       "      <th>75%</th>\n",
       "      <td>7.048479e+09</td>\n",
       "      <td>1.500000e+03</td>\n",
       "      <td>1.160000e+03</td>\n",
       "      <td>2.000000</td>\n",
       "      <td>2.000000</td>\n",
       "      <td>41.602500</td>\n",
       "      <td>-81.606600</td>\n",
       "    </tr>\n",
       "    <tr>\n",
       "      <th>max</th>\n",
       "      <td>7.051263e+09</td>\n",
       "      <td>2.768307e+09</td>\n",
       "      <td>8.388607e+06</td>\n",
       "      <td>1100.000000</td>\n",
       "      <td>75.000000</td>\n",
       "      <td>64.993700</td>\n",
       "      <td>172.633000</td>\n",
       "    </tr>\n",
       "  </tbody>\n",
       "</table>\n",
       "</div>"
      ],
      "text/plain": [
       "                 id         price        sqfeet           beds          baths  \\\n",
       "count  1.642830e+05  1.642830e+05  1.642830e+05  164283.000000  164283.000000   \n",
       "mean   7.040979e+09  1.885828e+04  1.148372e+03       1.933341       1.477947   \n",
       "std    8.841901e+06  6.830498e+06  2.920158e+04       4.640400       0.648084   \n",
       "min    7.004032e+09  0.000000e+00  0.000000e+00       0.000000       0.000000   \n",
       "25%    7.035968e+09  8.220000e+02  7.500000e+02       1.000000       1.000000   \n",
       "50%    7.043401e+09  1.084000e+03  9.500000e+02       2.000000       1.000000   \n",
       "75%    7.048479e+09  1.500000e+03  1.160000e+03       2.000000       2.000000   \n",
       "max    7.051263e+09  2.768307e+09  8.388607e+06    1100.000000      75.000000   \n",
       "\n",
       "                 lat           long  \n",
       "count  164283.000000  164283.000000  \n",
       "mean       37.766159     -94.170696  \n",
       "std         5.744449      17.587915  \n",
       "min       -43.533300    -163.894000  \n",
       "25%        33.979500    -105.869000  \n",
       "50%        38.666800     -88.641200  \n",
       "75%        41.602500     -81.606600  \n",
       "max        64.993700     172.633000  "
      ]
     },
     "execution_count": 26,
     "metadata": {},
     "output_type": "execute_result"
    }
   ],
   "source": [
    "rental.describe()"
   ]
  }
 ],
 "metadata": {
  "kernelspec": {
   "display_name": "Python 3 (ipykernel)",
   "language": "python",
   "name": "python3"
  },
  "language_info": {
   "codemirror_mode": {
    "name": "ipython",
    "version": 3
   },
   "file_extension": ".py",
   "mimetype": "text/x-python",
   "name": "python",
   "nbconvert_exporter": "python",
   "pygments_lexer": "ipython3",
   "version": "3.9.13"
  }
 },
 "nbformat": 4,
 "nbformat_minor": 5
}
